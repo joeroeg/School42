{
 "cells": [
  {
   "cell_type": "code",
   "execution_count": 1,
   "metadata": {},
   "outputs": [
    {
     "data": {
      "image/png": "[encoded data removed]",
      "text/plain": [
       "<Figure size 640x480 with 1 Axes>"
      ]
     },
     "metadata": {},
     "output_type": "display_data"
    }
   ],
   "source": [
    "import numpy as np\n",
    "import matplotlib.pyplot as plt\n",
    "from matplotlib.animation import FuncAnimation\n",
    "\n",
    "# Parameters\n",
    "g = 9.81  # acceleration due to gravity (m/s^2)\n",
    "L1, L2 = 1.0, 1.0  # lengths of the pendulums (m)\n",
    "m1, m2 = 1.0, 1.0  # masses of the pendulums (kg)\n",
    "theta1, theta2 = np.pi / 2, np.pi / 2  # initial angles (rad)\n",
    "omega1, omega2 = 0.0, 0.0  # initial angular velocities (rad/s)\n",
    "\n",
    "# Time settings\n",
    "dt = 0.01  # time step (s)\n",
    "t_max = 10  # total simulation time (s)\n",
    "\n",
    "# Differential equations\n",
    "def derivatives(state, t):\n",
    "    theta1, omega1, theta2, omega2 = state\n",
    "    delta = theta2 - theta1\n",
    "    den1 = (m1 + m2) * L1 - m2 * L1 * np.cos(delta) ** 2\n",
    "    den2 = (L2 / L1) * den1\n",
    "\n",
    "    dydt = np.zeros_like(state)\n",
    "    dydt[0] = omega1\n",
    "    dydt[1] = ((m2 * g * np.sin(theta2) * np.cos(delta) -\n",
    "                m2 * np.sin(delta) * (L2 * omega2 ** 2 + L1 * omega1 ** 2 * np.cos(delta)) -\n",
    "                (m1 + m2) * g * np.sin(theta1)) / den1)\n",
    "    dydt[2] = omega2\n",
    "    dydt[3] = (((m1 + m2) * (L1 * omega1 ** 2 * np.sin(delta) - g * np.sin(theta2) + g * np.sin(theta1) * np.cos(delta)) +\n",
    "                m2 * L2 * omega2 ** 2 * np.sin(delta) * np.cos(delta)) / den2)\n",
    "    return dydt\n",
    "\n",
    "# Time integration using Runge-Kutta\n",
    "def run_simulation():\n",
    "    state = np.array([theta1, omega1, theta2, omega2])\n",
    "    t = np.arange(0, t_max, dt)\n",
    "    trajectory = np.zeros((len(t), len(state)))\n",
    "    for i in range(len(t)):\n",
    "        trajectory[i] = state\n",
    "        k1 = dt * derivatives(state, t[i])\n",
    "        k2 = dt * derivatives(state + 0.5 * k1, t[i] + 0.5 * dt)\n",
    "        k3 = dt * derivatives(state + 0.5 * k2, t[i] + 0.5 * dt)\n",
    "        k4 = dt * derivatives(state + k3, t[i] + dt)\n",
    "        state += (k1 + 2 * k2 + 2 * k3 + k4) / 6\n",
    "    return trajectory, t\n",
    "\n",
    "trajectory, t = run_simulation()\n",
    "\n",
    "# Calculate positions\n",
    "x1 = L1 * np.sin(trajectory[:, 0])\n",
    "y1 = -L1 * np.cos(trajectory[:, 0])\n",
    "x2 = x1 + L2 * np.sin(trajectory[:, 2])\n",
    "y2 = y1 - L2 * np.cos(trajectory[:, 2])\n",
    "\n",
    "# Animation\n",
    "fig, ax = plt.subplots()\n",
    "ax.set_xlim(-2, 2)\n",
    "ax.set_ylim(-2, 2)\n",
    "line, = ax.plot([], [], 'o-', lw=2)\n",
    "\n",
    "def update(frame):\n",
    "    line.set_data([0, x1[frame], x2[frame]], [0, y1[frame], y2[frame]])\n",
    "    return line,\n",
    "\n",
    "ani = FuncAnimation(fig, update, frames=len(t), interval=dt * 1000, blit=True)\n",
    "plt.show()\n"
   ]
  }
 ],
 "metadata": {
  "kernelspec": {
   "display_name": "venv",
   "language": "python",
   "name": "python3"
  },
  "language_info": {
   "codemirror_mode": {
    "name": "ipython",
    "version": 3
   },
   "file_extension": ".py",
   "mimetype": "text/x-python",
   "name": "python",
   "nbconvert_exporter": "python",
   "pygments_lexer": "ipython3",
   "version": "3.10.14"
  }
 },
 "nbformat": 4,
 "nbformat_minor": 2
}
